{
 "cells": [
  {
   "cell_type": "code",
   "execution_count": 135,
   "metadata": {},
   "outputs": [],
   "source": [
    "import numpy as np\n",
    "\n",
    "train_x = np.loadtxt(\"trainX.txt\")\n",
    "train_y = np.loadtxt(\"trainY.txt\")\n",
    "\n",
    "\n",
    "train_2 = train_x[:250, :]\n",
    "\n",
    "train_4 = train_x[250:, :]\n"
   ]
  },
  {
   "cell_type": "code",
   "execution_count": 136,
   "metadata": {},
   "outputs": [],
   "source": [
    "#Probability of 0 and 1 for Class 2\n",
    "two_one_prob = (train_2.sum(axis=0)+1)/(train_2.shape[0]+2)\n",
    "\n",
    "two_zero_prob = 1 - two_one_prob\n"
   ]
  },
  {
   "cell_type": "code",
   "execution_count": 137,
   "metadata": {},
   "outputs": [],
   "source": [
    "#Probability of 0 and 1 for Class 4\n",
    "four_one_prob = (train_4.sum(axis=0)+1)/(train_4.shape[0]+2)\n",
    "\n",
    "four_zero_prob = 1 - four_one_prob\n"
   ]
  },
  {
   "cell_type": "code",
   "execution_count": 138,
   "metadata": {},
   "outputs": [],
   "source": [
    "prob_two = []\n",
    "for i in train_x:\n",
    "    prob2=1\n",
    "    for j in range(len(i)):\n",
    "            if(i[j]==1):\n",
    "                prob2=prob2*two_one_prob[j]\n",
    "            elif(i[j]==0):\n",
    "                prob2=prob2*two_zero_prob[j]\n",
    "    prob_two.append(prob2)\n",
    "probability_two = np.array([prob_two]).T\n"
   ]
  },
  {
   "cell_type": "code",
   "execution_count": 139,
   "metadata": {},
   "outputs": [],
   "source": [
    "prob_four = list()\n",
    "for i in train_x:\n",
    "    prob4=1\n",
    "    for j in range(len(i)):\n",
    "            if(i[j]==1):\n",
    "                prob4=prob4*four_one_prob[j]\n",
    "            elif(i[j]==0):\n",
    "                prob4=prob4*four_zero_prob[j]\n",
    "    prob_four.append(prob4)\n",
    "probability_four = np.array([prob_four]).T"
   ]
  },
  {
   "cell_type": "code",
   "execution_count": 140,
   "metadata": {},
   "outputs": [],
   "source": [
    "length = len(probability_two)\n",
    "predict_train=np.zeros([length])\n",
    "for i in range(length):\n",
    "    if(probability_two[i]>probability_four[i]):\n",
    "        predict_train[i]=2\n",
    "    else:\n",
    "        predict_train[i]=4\n"
   ]
  },
  {
   "cell_type": "code",
   "execution_count": 141,
   "metadata": {},
   "outputs": [],
   "source": [
    "prediction_two=0\n",
    "prediction_four=0\n",
    "for i in range(length):\n",
    "    if(predict_train[i]==2 and train_y[i]==2):\n",
    "        prediction_two+=1\n",
    "    elif(predict_train[i]==4 and train_y[i]==4):\n",
    "        prediction_four+=1\n"
   ]
  },
  {
   "cell_type": "code",
   "execution_count": 142,
   "metadata": {},
   "outputs": [],
   "source": [
    "test_x = np.loadtxt(\"testX.txt\")\n",
    "\n",
    "prob_2_testing= list()\n",
    "for i in test_x:\n",
    "     prob_2_test=1\n",
    "     for j in range(len(i)):\n",
    "            if(i[j]==1):\n",
    "                prob_2_test=prob_2_test*two_one_prob[j]\n",
    "            elif(i[j]==0):\n",
    "                prob_2_test=prob_2_test*two_zero_prob[j]\n",
    "     prob_2_testing.append(prob_2_test)\n",
    "probability_2_test=np.array([prob_2_testing]).T"
   ]
  },
  {
   "cell_type": "code",
   "execution_count": 143,
   "metadata": {},
   "outputs": [],
   "source": [
    "prob_4_testing= list()\n",
    "for i in test_x:\n",
    "     prob_4_test=1\n",
    "     for j in range(len(i)):\n",
    "            if(i[j]==1):\n",
    "                prob_4_test=prob_4_test*four_one_prob[j]\n",
    "            elif(i[j]==0):\n",
    "                prob_4_test=prob_4_test*four_zero_prob[j]\n",
    "     prob_4_testing.append(prob_4_test)\n",
    "probability_4_test=np.array([prob_4_testing]).T"
   ]
  },
  {
   "cell_type": "code",
   "execution_count": 144,
   "metadata": {},
   "outputs": [],
   "source": [
    "test_y = np.loadtxt(\"testY.txt\")\n",
    "leng = len(probability_2_test)\n",
    "\n",
    "predict_test=np.zeros([leng])\n",
    "\n",
    "for i in range(leng):\n",
    "    if(probability_2_test[i]>probability_4_test[i]):\n",
    "        predict_test[i]=2\n",
    "    else:\n",
    "        predict_test[i]=4\n"
   ]
  },
  {
   "cell_type": "code",
   "execution_count": 145,
   "metadata": {},
   "outputs": [],
   "source": [
    "prediction_test_two=0\n",
    "prediction_test_four=0\n",
    "for i in range(leng):\n",
    "    if(predict_test[i]==2 and test_y[i]==2):\n",
    "        prediction_test_two+=1\n",
    "    elif(predict_test[i]==4 and test_y[i]==4):\n",
    "        prediction_test_four+=1"
   ]
  },
  {
   "cell_type": "code",
   "execution_count": 146,
   "metadata": {},
   "outputs": [
    {
     "name": "stdout",
     "output_type": "stream",
     "text": [
      "Accurracy of 2 Class For Training Data:  98.4 %\n",
      "Accurracy of 4 Class For Training Data:  99.2 %\n"
     ]
    }
   ],
   "source": [
    "print(\"Accurracy of 2 Class For Training Data: \",(prediction_two/250)*100,\"%\")       \n",
    "print(\"Accurracy of 4 Class For Training Data: \",(prediction_four/250)*100,\"%\") "
   ]
  },
  {
   "cell_type": "code",
   "execution_count": 147,
   "metadata": {},
   "outputs": [
    {
     "name": "stdout",
     "output_type": "stream",
     "text": [
      "Accurracy of 2 Class For Testing Data:  100.0 %\n",
      "Accurracy of 4 Class For Testing Data:  100.0 %\n"
     ]
    }
   ],
   "source": [
    "print(\"Accurracy of 2 Class For Testing Data: \",(prediction_test_two/50)*100,\"%\")        \n",
    "print(\"Accurracy of 4 Class For Testing Data: \",(prediction_test_four/50)*100,\"%\")"
   ]
  },
  {
   "cell_type": "code",
   "execution_count": 148,
   "metadata": {},
   "outputs": [
    {
     "name": "stdout",
     "output_type": "stream",
     "text": [
      "Overall Accurracy Training Data:  98.8 %\n",
      "Overall Accurracy Testing Data:  100.0 %\n"
     ]
    }
   ],
   "source": [
    "print(\"Overall Accurracy Training Data: \",((prediction_two + prediction_four)/500)*100,\"%\") \n",
    "print(\"Overall Accurracy Testing Data: \",((prediction_test_two + prediction_test_four)/100)*100,\"%\") \n"
   ]
  },
  {
   "cell_type": "code",
   "execution_count": null,
   "metadata": {},
   "outputs": [],
   "source": []
  }
 ],
 "metadata": {
  "kernelspec": {
   "display_name": "Python 3 (ipykernel)",
   "language": "python",
   "name": "python3"
  },
  "language_info": {
   "codemirror_mode": {
    "name": "ipython",
    "version": 3
   },
   "file_extension": ".py",
   "mimetype": "text/x-python",
   "name": "python",
   "nbconvert_exporter": "python",
   "pygments_lexer": "ipython3",
   "version": "3.9.7"
  }
 },
 "nbformat": 4,
 "nbformat_minor": 4
}
